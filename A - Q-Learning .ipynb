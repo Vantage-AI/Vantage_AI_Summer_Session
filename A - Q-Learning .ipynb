{
 "cells": [
  {
   "cell_type": "code",
   "execution_count": 12,
   "metadata": {},
   "outputs": [],
   "source": [
    "import gym\n",
    "from gym.envs.registration import register\n",
    "\n",
    "import numpy as np\n",
    "import pandas as pd\n",
    "import time\n",
    "\n",
    "import matplotlib.pyplot as plt\n",
    "from matplotlib import pyplot\n",
    "%matplotlib inline\n",
    "\n",
    "from IPython.display import clear_output\n",
    "\n",
    "from collections import defaultdict"
   ]
  },
  {
   "cell_type": "markdown",
   "metadata": {},
   "source": [
    "# Q-Learning"
   ]
  },
  {
   "cell_type": "markdown",
   "metadata": {},
   "source": [
    "\n",
    "### Frozen lake explained\n",
    "* Agent has to go from start (S) to the goal (G, a frisbee).\n",
    "* Agent only gets a reward (1) if it makes it all the way to the end. Otherwise (0).\n",
    "* There are 4 actions the agent can perform.\n",
    "* ...but the ice is slippery so sometimes moves in a random direction.\n",
    "\n",
    "SFFF &nbsp;&nbsp;&nbsp; (S: starting point, safe)<br />\n",
    "FHFH &nbsp;&nbsp;&nbsp; (F: frozen surface, safe)<br />\n",
    "FFFH &nbsp;&nbsp;&nbsp; (H: hole, fall to your doom)<br />\n",
    "HFFG &nbsp;&nbsp;&nbsp; (G: goal, where the frisbee is located)<br />\n",
    "\n",
    "* there are only 16 states, so carving up a Q-table is an overseeable effort\n",
    "* 4 actions {0:'left', 1:'down', 2:'right', 3:'up'}"
   ]
  },
  {
   "cell_type": "markdown",
   "metadata": {},
   "source": [
    "### Create non_slippery environment"
   ]
  },
  {
   "cell_type": "code",
   "execution_count": 3,
   "metadata": {},
   "outputs": [],
   "source": [
    "# --> Create non-slippery frozen lake\n",
    "\n",
    "register(\n",
    "    id='FrozenLakeNotSlippery-v0',\n",
    "    entry_point='gym.envs.toy_text:FrozenLakeEnv',\n",
    "    kwargs={'map_name' : '4x4', 'is_slippery': False},\n",
    "    max_episode_steps=100,\n",
    "    reward_threshold=0.78, # optimum = .8196\n",
    ")"
   ]
  },
  {
   "cell_type": "markdown",
   "metadata": {},
   "source": [
    "### Example of a deterministic policy, $\\pi(a|s)$\n",
    "Here we define our own policy: follow the outskirts of the map (top and right)"
   ]
  },
  {
   "cell_type": "code",
   "execution_count": 4,
   "metadata": {},
   "outputs": [],
   "source": [
    "def deterministic_policy(state):\n",
    "    \n",
    "    # Go right first\n",
    "    \n",
    "    if (state % 3 != 0) or (state == 0):\n",
    "        action = 2\n",
    "        \n",
    "    # Then go down\n",
    "    else:\n",
    "        action = 1\n",
    "    return action"
   ]
  },
  {
   "cell_type": "code",
   "execution_count": 5,
   "metadata": {},
   "outputs": [],
   "source": [
    "def frozen_lake_deterministic():\n",
    "    \n",
    "    env = gym.make(\"FrozenLakeNotSlippery-v0\").env\n",
    "\n",
    "    s = env.reset()\n",
    "    done = False\n",
    "    \n",
    "    reward = 0\n",
    "    \n",
    "    while not done:    \n",
    "        \n",
    "        # Get action from policy given the state we are in\n",
    "        \n",
    "        a = deterministic_policy(s)\n",
    "\n",
    "        # perform action\n",
    "        \n",
    "        s_next, r, done, info = env.step(a)\n",
    "        \n",
    "        # set the next state to the current state\n",
    "        \n",
    "        s = s_next\n",
    "        \n",
    "        # add up the reward\n",
    "        \n",
    "        reward += r\n",
    "\n",
    "        clear_output()\n",
    "        env.render()\n",
    "        time.sleep(1)\n",
    "\n",
    "    if reward == 0:\n",
    "        print(\"\\nWe failed :-(\")\n",
    "    else:\n",
    "        print(\"\\nWe made it! :-D\")\n",
    "        "
   ]
  },
  {
   "cell_type": "code",
   "execution_count": 6,
   "metadata": {},
   "outputs": [
    {
     "name": "stdout",
     "output_type": "stream",
     "text": [
      "  (Down)\n",
      "SFFF\n",
      "FHF\u001b[41mH\u001b[0m\n",
      "FFFH\n",
      "HFFG\n",
      "\n",
      "We failed :-(\n"
     ]
    }
   ],
   "source": [
    "frozen_lake_deterministic()"
   ]
  },
  {
   "cell_type": "markdown",
   "metadata": {},
   "source": [
    "### Let's create a Q-learning Agent"
   ]
  },
  {
   "cell_type": "code",
   "execution_count": 7,
   "metadata": {},
   "outputs": [],
   "source": [
    "class Agent():\n",
    "    def __init__(self, learning_rate, epsilon, gamma, n_actions):\n",
    "        \"\"\"\n",
    "        Q-Learning Agent\n",
    "        \"\"\"\n",
    "        \n",
    "        # List possible actions\n",
    "        self.actions = np.arange(n_actions)\n",
    "\n",
    "        # Construct a dictionary that holds Q(s, a)\n",
    "        self._qvalues = defaultdict(lambda: defaultdict(lambda: 0))\n",
    "        \n",
    "        # Learning rate\n",
    "        self.learning_rate = learning_rate\n",
    "        \n",
    "        # Epsilon: exploration rate\n",
    "        self.epsilon = epsilon\n",
    "        \n",
    "        # Gamma: reward discount\n",
    "        self.gamma = gamma\n",
    "\n",
    "    def get_qvalue(self, state, action):\n",
    "        \"\"\" Returns Q(state,action) \"\"\"\n",
    "        return self._qvalues[state][action]\n",
    "\n",
    "    def set_qvalue(self,state,action,value):\n",
    "        \"\"\" Sets Q(s, a) [state,action] to the given value \"\"\"\n",
    "        self._qvalues[state][action] = value\n",
    "\n",
    "    #---------------------START OF YOUR CODE---------------------#\n",
    "\n",
    "    def get_value(self, state):\n",
    "        \"\"\"\n",
    "        Compute your agent's estimate of V(s) using current q-values\n",
    "        V(s) = max_over_action Q(state,action) over possible actions.\n",
    "        \"\"\"\n",
    "        \n",
    "        # Get Q values\n",
    "        Q_values = np.array([self.get_qvalue(state, a) for a in self.actions])\n",
    "        \n",
    "        # Get V(s) by taking the max of Q_values\n",
    "        value = Q_values[Q_values.argmax()]\n",
    "    \n",
    "        return value\n",
    "\n",
    "    def update(self, state, action, reward, next_state, done):\n",
    "        \"\"\"\n",
    "        Update the Q value along our experience\n",
    "    \n",
    "        \"\"\"\n",
    "        \n",
    "        gamma = self.gamma\n",
    "        learning_rate = self.learning_rate\n",
    "\n",
    "        Q = self.get_qvalue(state, action)\n",
    "        V = self.get_value(next_state)\n",
    "\n",
    "        if not done:\n",
    "            \n",
    "            Q_hat = Q + learning_rate * (reward + (gamma * V) - Q)\n",
    "            \n",
    "        else:\n",
    "            Q_hat = Q + learning_rate * (reward - Q)\n",
    "            \n",
    "\n",
    "                                                                                \n",
    "        # update Q value in the table\n",
    "        \n",
    "        self.set_qvalue(state, action, Q_hat)\n",
    "    \n",
    "    def get_best_action(self, state):\n",
    "        \"\"\"\n",
    "        Compute the best action to take in a state by picking the action with the highest Q-value. \n",
    "        \"\"\"\n",
    "        \n",
    "        # Get qvalues\n",
    "        qvalues = np.array([self.get_qvalue(state, a) for a in self.actions])\n",
    "\n",
    "        # Get best action\n",
    "        best_action = np.argmax(qvalues)\n",
    "        \n",
    "        return best_action\n",
    "\n",
    "    def get_action(self, state):\n",
    "        \"\"\"\n",
    "        Compute the action to take in the current state, including exploration.  \n",
    "        With probability self.epsilon - we should take a random action.\n",
    "        otherwise - the best action.\n",
    "        \"\"\"\n",
    "\n",
    "        # agent parameters:\n",
    "        epsilon = self.epsilon\n",
    "\n",
    "        # Decide if we pick a random action\n",
    "        if np.random.uniform() < epsilon:\n",
    "            chosen_action = np.random.choice(self.actions)\n",
    "        # Else: get the best action\n",
    "        else:\n",
    "            chosen_action = self.get_best_action(state)\n",
    "\n",
    "        return chosen_action\n",
    "    \n",
    "    def plot(self, episode, agent, mean_rewards, num_episodes):\n",
    "    \n",
    "        clear_output(True)\n",
    "        print(\"--- Epoch: %i ---\"%episode)\n",
    "        print('eps =', agent.epsilon, 'mean reward =', mean_rewards[-1])\n",
    "\n",
    "        # ---> plot reward\n",
    "        size = (10, 5)\n",
    "        fig, ax = pyplot.subplots(figsize=size)\n",
    "        ax.spines['top'].set_visible(False)\n",
    "        ax.spines['right'].set_visible(False)\n",
    "        ax.tick_params(labelsize=12)\n",
    "        ax.set_xlabel('epoch', fontsize=12)\n",
    "        ax.set_ylabel('reward', fontsize=12)\n",
    "        plt.plot(mean_rewards)\n",
    "        plt.xlim(0, num_episodes/100)\n",
    "        plt.ylim(0,1)\n",
    "        plt.show()\n",
    "        "
   ]
  },
  {
   "cell_type": "markdown",
   "metadata": {},
   "source": [
    "### Play the game and update the Q-table as we go"
   ]
  },
  {
   "cell_type": "code",
   "execution_count": 8,
   "metadata": {},
   "outputs": [],
   "source": [
    "\n",
    "def run_episode(env,agent,t_max=10**4, train=False):\n",
    "    \"\"\"\n",
    "    run a full episode along an e-greedy policy\n",
    "    \"\"\"\n",
    "    #  Reset the game\n",
    "    \n",
    "    total_reward = 0\n",
    "    \n",
    "    s = env.reset()\n",
    "    \n",
    "    if not train:\n",
    "        env.render()\n",
    "        time.sleep(2)\n",
    "    \n",
    "    for t in range(t_max): # max steps, otherwise we quit\n",
    "\n",
    "        # First we pick an action in the current state\n",
    "        \n",
    "        if train:\n",
    "            a = agent.get_action(s)\n",
    "        else:\n",
    "            a = agent.get_best_action(s)\n",
    "        \n",
    "        # next, we take a step with this action\n",
    "        \n",
    "        next_s, r, done, _ = env.step(a)\n",
    "\n",
    "        # Finally, given the reward we update the Q-matrix\n",
    "        \n",
    "        if train:\n",
    "            agent.update(s, a, r, next_s, done)\n",
    "        else:\n",
    "            clear_output()\n",
    "            env.render()\n",
    "            time.sleep(1)\n",
    "        s = next_s\n",
    "        total_reward += r\n",
    "        \n",
    "        if done: break\n",
    "    \n",
    "    return total_reward\n",
    "    "
   ]
  },
  {
   "cell_type": "code",
   "execution_count": 9,
   "metadata": {
    "scrolled": true
   },
   "outputs": [],
   "source": [
    "def frozen_lake_q(num_episodes, gamma, epsilon, epsilon_decay, learning_rate):\n",
    "    '''\n",
    "    run a number of episodes\n",
    "    '''\n",
    "    \n",
    "    try: \n",
    "        \n",
    "        # create an environment\n",
    "        \n",
    "        env = gym.make(\"FrozenLakeNotSlippery-v0\").env\n",
    "                \n",
    "        n_states = env.observation_space.n\n",
    "        n_actions = env.action_space.n\n",
    "        \n",
    "        # create a Q-table\n",
    "        \n",
    "        Q_matrix = np.zeros((n_states, n_actions))\n",
    "        \n",
    "        rewards = []\n",
    "        episodes = []\n",
    "        \n",
    "        mean_rewards = []\n",
    "\n",
    "        # create an Agent\n",
    "        \n",
    "        agent = Agent(learning_rate=learning_rate, epsilon=epsilon, gamma=gamma, n_actions=n_actions)\n",
    "\n",
    "        for episode in range(num_episodes+1):\n",
    "    \n",
    "            # run an episode\n",
    "            \n",
    "            total_reward = run_episode(env, agent, train=True)\n",
    "            \n",
    "            rewards.append(total_reward)\n",
    "            episodes.append(episode)\n",
    "            \n",
    "            agent.epsilon *= epsilon_decay\n",
    "\n",
    "            # plot results for every set of 100 episodes\n",
    "            \n",
    "            if episode %100 == 0:\n",
    "                # Get mean reward in last 10 sessions\n",
    "                mean_rewards.append(np.mean(rewards))\n",
    "                \n",
    "                agent.plot(episode, agent, mean_rewards, num_episodes)\n",
    "                \n",
    "                for s, a in np.array(np.meshgrid(np.arange(n_states), np.arange(n_actions))).reshape(2, -1).T:\n",
    "                    Q_matrix[s, a] = agent.get_qvalue(s, a)\n",
    "                print(Q_matrix)\n",
    "\n",
    "                time.sleep(0.25)\n",
    "                \n",
    "        return episodes, rewards, agent\n",
    "    \n",
    "    finally:\n",
    "        \n",
    "        env.close()"
   ]
  },
  {
   "cell_type": "code",
   "execution_count": 10,
   "metadata": {
    "scrolled": false
   },
   "outputs": [
    {
     "name": "stdout",
     "output_type": "stream",
     "text": [
      "--- Epoch: 4000 ---\n",
      "eps = 0.018242480066854295 mean reward = 0.7185703574106473\n"
     ]
    },
    {
     "data": {
      "image/png": "[encoded data removed]",
      "text/plain": [
       "<Figure size 720x360 with 1 Axes>"
      ]
     },
     "metadata": {
      "needs_background": "light"
     },
     "output_type": "display_data"
    },
    {
     "name": "stdout",
     "output_type": "stream",
     "text": [
      "[[0.94148015 0.93206532 0.95099005 0.94148015]\n",
      " [0.94148015 0.         0.96059601 0.95099005]\n",
      " [0.95099005 0.970299   0.95099    0.96059601]\n",
      " [0.96059601 0.         0.84448149 0.85125368]\n",
      " [0.88851518 0.75018112 0.         0.94148015]\n",
      " [0.         0.         0.         0.        ]\n",
      " [0.         0.9801     0.         0.96059595]\n",
      " [0.         0.         0.         0.        ]\n",
      " [0.25616998 0.         0.91928157 0.66636042]\n",
      " [0.59577459 0.98009941 0.87391676 0.        ]\n",
      " [0.9702888  0.99       0.         0.97029872]\n",
      " [0.         0.         0.         0.        ]\n",
      " [0.         0.         0.         0.        ]\n",
      " [0.         0.93843361 0.99       0.86488423]\n",
      " [0.98009336 0.98999963 1.         0.98009419]\n",
      " [0.         0.         0.         0.        ]]\n"
     ]
    }
   ],
   "source": [
    "gamma = 0.99\n",
    "epsilon = 0.999\n",
    "epsilon_decay = 0.999 \n",
    "\n",
    "num_episodes = 4000\n",
    "learning_rate = 1e-1\n",
    "\n",
    "episodes, rewards, agent = frozen_lake_q(num_episodes, gamma, epsilon, epsilon_decay, learning_rate)"
   ]
  },
  {
   "cell_type": "markdown",
   "metadata": {},
   "source": [
    "### Play the game along the updated Q-table"
   ]
  },
  {
   "cell_type": "code",
   "execution_count": 11,
   "metadata": {},
   "outputs": [
    {
     "name": "stdout",
     "output_type": "stream",
     "text": [
      "  (Right)\n",
      "SFFF\n",
      "FHFH\n",
      "FFFH\n",
      "HFF\u001b[41mG\u001b[0m\n",
      "\n",
      "Success! :-D\n"
     ]
    }
   ],
   "source": [
    "env = gym.make(\"FrozenLakeNotSlippery-v0\").env\n",
    "\n",
    "reward = run_episode(env, agent, t_max=10**4, train=False)\n",
    "\n",
    "if reward == 1:\n",
    "    print(\"\\nSuccess! :-D\")"
   ]
  }
 ],
 "metadata": {
  "kernelspec": {
   "display_name": "Python 3",
   "language": "python",
   "name": "python3"
  },
  "language_info": {
   "codemirror_mode": {
    "name": "ipython",
    "version": 3
   },
   "file_extension": ".py",
   "mimetype": "text/x-python",
   "name": "python",
   "nbconvert_exporter": "python",
   "pygments_lexer": "ipython3",
   "version": "3.6.6"
  },
  "toc": {
   "base_numbering": 1,
   "nav_menu": {},
   "number_sections": true,
   "sideBar": true,
   "skip_h1_title": false,
   "title_cell": "Table of Contents",
   "title_sidebar": "Contents",
   "toc_cell": false,
   "toc_position": {},
   "toc_section_display": true,
   "toc_window_display": false
  }
 },
 "nbformat": 4,
 "nbformat_minor": 2
}
