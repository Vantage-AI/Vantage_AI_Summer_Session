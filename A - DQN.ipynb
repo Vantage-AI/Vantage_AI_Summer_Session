{
 "cells": [
  {
   "cell_type": "code",
   "execution_count": 7,
   "metadata": {},
   "outputs": [],
   "source": [
    "import gym\n",
    "from gym import wrappers\n",
    "gym.logger.set_level(40)\n",
    "\n",
    "import random\n",
    "import numpy as np\n",
    "import time\n",
    "\n",
    "from collections import deque\n",
    "\n",
    "import keras\n",
    "from keras.models import Sequential\n",
    "from keras.layers import Dense\n",
    "from keras.optimizers import Adam\n",
    "\n",
    "import matplotlib.pyplot as plt\n",
    "from matplotlib import pyplot\n",
    "%matplotlib inline\n",
    "\n",
    "from IPython.display import clear_output"
   ]
  },
  {
   "cell_type": "code",
   "execution_count": 8,
   "metadata": {},
   "outputs": [
    {
     "name": "stdout",
     "output_type": "stream",
     "text": [
      "I am running keras version 2.2.4.\n"
     ]
    }
   ],
   "source": [
    "print(\"I am running keras version %s.\"%keras.__version__)"
   ]
  },
  {
   "cell_type": "markdown",
   "metadata": {},
   "source": [
    "# Deep Q-Learning"
   ]
  },
  {
   "cell_type": "markdown",
   "metadata": {},
   "source": [
    "### Cartpole explained\n",
    "* The pendulum starts upright, and the goal is to prevent it from falling over. \n",
    "* A reward of +1 is provided for every timestep that the pole remains upright. \n",
    "* The episode ends when the pole is more than 15 degrees from vertical, or the cart moves more than 2.4 units from the center.\n",
    "* The system is controlled by applying a force of +1 or -1 to the cart (so only 2 actions)\n",
    "* You can manually set the number of steps after which the episodes ends (standard at 200)\n",
    "\n",
    "* A state consists of 4 numbers: position of cart, velocity of cart, angle of pole, rotation rate of pole\n",
    "* Many different states so carving up a Q-table is not overly efficient"
   ]
  },
  {
   "cell_type": "markdown",
   "metadata": {},
   "source": [
    "### Create Agent"
   ]
  },
  {
   "cell_type": "code",
   "execution_count": 9,
   "metadata": {},
   "outputs": [],
   "source": [
    "class DQN_Agent(object):\n",
    "\n",
    "    def __init__(self, input_dim, output_dim):\n",
    "        self.epsilon = epsilon\n",
    "\n",
    "        self.input_dim = input_dim\n",
    "        self.output_dim = output_dim\n",
    "        \n",
    "        # set memory for experience replay\n",
    "        \n",
    "        self.memory = deque(maxlen=memory_size)\n",
    "        \n",
    "        self.build_network(self.input_dim, self.output_dim)\n",
    "        \n",
    "    def build_network(self, input_dim, output_dim):\n",
    "    \n",
    "        # set up network for predicting Q-values\n",
    "    \n",
    "        self.model = Sequential([\n",
    "        Dense(24, activation='relu', input_shape=(input_dim,)),\n",
    "        Dense(24, activation='relu'),\n",
    "        Dense(output_dim, activation='linear')])\n",
    "    \n",
    "        self.model.compile(loss=\"mse\", optimizer=Adam(lr=learning_rate))\n",
    "        \n",
    "        #print(self.model.summary())\n",
    "        \n",
    "    def remember(self, state, action, reward, next_state, done):\n",
    "        self.memory.append((state, action, reward, next_state, done))\n",
    "\n",
    "    def act(self, state, episode):\n",
    "        \n",
    "        if episode< exploration_rounds:\n",
    "            action =  random.randrange(self.output_dim)\n",
    "            return action\n",
    "        \n",
    "        elif episode > exploration_rounds and np.random.rand() > self.epsilon:\n",
    "            q_values = self.model.predict(state)\n",
    "            action = np.argmax(q_values[0])\n",
    "            \n",
    "            self.epsilon *= epsilon_decay\n",
    "            self.epsilon = max(epsilon_min, self.epsilon)\n",
    "            \n",
    "            return action\n",
    "        \n",
    "        else:\n",
    "            action =  random.randrange(self.output_dim)\n",
    "            \n",
    "            self.epsilon *= epsilon_decay\n",
    "            self.epsilon = max(epsilon_min, self.epsilon)\n",
    "            return action\n",
    "\n",
    "    def experience_replay(self):\n",
    "        if len(self.memory) < batch_size:\n",
    "            return\n",
    "        \n",
    "        # randomly sample a state, reward combinations from our memory, update Q-values and train\n",
    "        \n",
    "        batch = random.sample(self.memory, batch_size)\n",
    "        for state, action, reward, state_next, terminal in batch:\n",
    "            q_update = reward\n",
    "            if not terminal:\n",
    "                q_update = (reward + gamma * np.amax(self.model.predict(state_next)[0]))\n",
    "                \n",
    "            q_values = self.model.predict(state)\n",
    "            q_values[0][action] = q_update\n",
    "                        \n",
    "            self.model.fit(state, q_values, verbose=0)\n",
    "             \n",
    "    def plot(self, episode, means_hist, num_episodes, max_episode_steps, start):\n",
    "        clear_output(True)\n",
    "        print(\"--- Epoch: %i ---\"%episode)\n",
    "        print(\"--- Mean reward: %i ---\"%means_hist[-1])\n",
    "        print('time elapsed (sec) =', time.time()-start)\n",
    "        print('eps =', self.epsilon)\n",
    "\n",
    "        size = (10, 5)\n",
    "        fig, ax = pyplot.subplots(figsize=size)\n",
    "        ax.spines['top'].set_visible(False)\n",
    "        ax.spines['right'].set_visible(False)\n",
    "        ax.tick_params(labelsize=12)\n",
    "        ax.set_xlabel('epoch', fontsize=12)\n",
    "        ax.set_ylabel('reward', fontsize=12)\n",
    "        plt.xlim(0, num_episodes/10)\n",
    "        plt.ylim(0, max_episode_steps)\n",
    "        plt.plot(means_hist)\n",
    "\n",
    "        if episode == num_episodes:\n",
    "            plt.savefig('DQN.png')\n",
    "\n",
    "        plt.show()\n",
    "\n",
    "        time.sleep(0.25)\n"
   ]
  },
  {
   "cell_type": "markdown",
   "metadata": {},
   "source": [
    "###  Play the game and train the network as we go"
   ]
  },
  {
   "cell_type": "code",
   "execution_count": 10,
   "metadata": {},
   "outputs": [],
   "source": [
    "def run_episode(env, agent, episode, render):\n",
    "\n",
    "    state = env.reset()\n",
    "    state = np.reshape(state, [1, agent.input_dim])\n",
    "\n",
    "    cumul_reward_episode = 0\n",
    "    \n",
    "    done = False\n",
    "\n",
    "    while not done:\n",
    "        \n",
    "        if render: env.render()\n",
    "        \n",
    "        # get an action either through our network - or randomly\n",
    "        \n",
    "        action = agent.act(state, episode)\n",
    "        \n",
    "        # get next state and reward along our chosen action\n",
    "        \n",
    "        state_next, r, done, info = env.step(action)\n",
    "        \n",
    "        r = r if not done else -r\n",
    "        \n",
    "        cumul_reward_episode += r\n",
    "        state_next = np.reshape(state_next, [1, agent.input_dim])\n",
    "        \n",
    "        # put state, action, corresponding reward and next state in our memory\n",
    "        \n",
    "        agent.remember(state, action, r, state_next, done)\n",
    "        state = state_next\n",
    "        \n",
    "        # randomly sample a batch of state, reward combinations, update Q-values and update network weights\n",
    "        \n",
    "        agent.experience_replay()\n",
    "    \n",
    "    return cumul_reward_episode"
   ]
  },
  {
   "cell_type": "code",
   "execution_count": 11,
   "metadata": {},
   "outputs": [],
   "source": [
    "def cartpole_dqn(num_episodes, max_episode_steps, epsilon, epsilon_decay, learning_rate, render):\n",
    "    try:\n",
    "        start = time.time()\n",
    "    \n",
    "        episodes_set = []\n",
    "        cumul_rewards = []\n",
    "        mean_rewards = deque(maxlen=10)\n",
    "        means_hist = []\n",
    "        \n",
    "        # set up environment\n",
    "\n",
    "        env = gym.make(\"CartPole-v0\")\n",
    "        env._max_episode_steps = max_episode_steps\n",
    "        #env = wrappers.Monitor(env, './videos/' + str(time()) + '/')\n",
    "        \n",
    "        input_dim = env.observation_space.shape[0]\n",
    "        output_dim = env.action_space.n\n",
    "        \n",
    "        # create DQN Agent\n",
    "        \n",
    "        agent = DQN_Agent(input_dim, output_dim)\n",
    "        \n",
    "        for episode in range(num_episodes+1):\n",
    "            \n",
    "            # run episode\n",
    "            \n",
    "            cumul_reward_episode = run_episode(env, agent, episode, render)\n",
    "            \n",
    "            episodes_set.append(episode)\n",
    "            cumul_rewards.append(cumul_reward_episode)\n",
    "            mean_rewards.append(cumul_reward_episode)\n",
    "            \n",
    "            if episode%10==0:\n",
    "\n",
    "                means_hist.append(np.mean(mean_rewards))\n",
    "\n",
    "                agent.plot(episode, means_hist, num_episodes, max_episode_steps, start)\n",
    "                \n",
    "        return episodes_set, cumul_rewards\n",
    "    \n",
    "    finally:\n",
    "        env.close()"
   ]
  },
  {
   "cell_type": "code",
   "execution_count": 12,
   "metadata": {},
   "outputs": [
    {
     "name": "stdout",
     "output_type": "stream",
     "text": [
      "--- Epoch: 100 ---\n",
      "--- Mean reward: 8 ---\n",
      "time elapsed (sec) = 175.73059582710266\n",
      "eps = 0.2\n"
     ]
    },
    {
     "data": {
      "image/png": "[encoded data removed]",
      "text/plain": [
       "<Figure size 720x360 with 1 Axes>"
      ]
     },
     "metadata": {
      "needs_background": "light"
     },
     "output_type": "display_data"
    }
   ],
   "source": [
    "render = False\n",
    "num_episodes = 100\n",
    "exploration_rounds = 0\n",
    "max_episode_steps = 200\n",
    "\n",
    "gamma = 0.95\n",
    "learning_rate = 0.001\n",
    "\n",
    "memory_size = 1000\n",
    "batch_size = 32\n",
    "\n",
    "epsilon = 1.0\n",
    "epsilon_min = 0.2\n",
    "epsilon_decay = 0.999\n",
    "\n",
    "episodes, cumul_rewards = cartpole_dqn(num_episodes, max_episode_steps, epsilon, epsilon_decay, learning_rate, render)"
   ]
  }
 ],
 "metadata": {
  "kernelspec": {
   "display_name": "Python 3",
   "language": "python",
   "name": "python3"
  },
  "language_info": {
   "codemirror_mode": {
    "name": "ipython",
    "version": 3
   },
   "file_extension": ".py",
   "mimetype": "text/x-python",
   "name": "python",
   "nbconvert_exporter": "python",
   "pygments_lexer": "ipython3",
   "version": "3.6.6"
  },
  "toc": {
   "base_numbering": 1,
   "nav_menu": {},
   "number_sections": true,
   "sideBar": true,
   "skip_h1_title": false,
   "title_cell": "Table of Contents",
   "title_sidebar": "Contents",
   "toc_cell": false,
   "toc_position": {},
   "toc_section_display": true,
   "toc_window_display": false
  }
 },
 "nbformat": 4,
 "nbformat_minor": 2
}
